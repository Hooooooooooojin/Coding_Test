from itertools import permutations
def solution(babbling):
    answer = 0
    dic = ['aya','ye','woo','ma']
    all = []
    for i in range(1,len(dic)+1):
        for p in permutations(dic,i):
            all.append(''.join(p))
    
    for b in babbling:
        if b in all:
            answer += 1
    return answer
