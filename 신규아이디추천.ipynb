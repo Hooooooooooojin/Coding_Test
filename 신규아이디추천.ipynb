{
 "cells": [
  {
   "cell_type": "code",
   "execution_count": 64,
   "metadata": {},
   "outputs": [],
   "source": [
    "import re\n",
    "\n",
    "def solution(new_id):\n",
    "    answer = ''\n",
    "    # 1단계 소문자화\n",
    "    answer = new_id.lower()\n",
    "    # 2단계  소문자, 숫자, -, _, . 제외한 모든 문자 제거 \n",
    "    answer = re.sub('[\\~\\!\\@\\#\\$\\%\\^\\&\\*\\(\\)\\=\\+\\[\\{\\]\\}\\:\\?\\,\\<\\>\\/]',\"\",answer)\n",
    "    # 3단계 마침표 2개 이상이면 하나로 치환\n",
    "    answer = re.sub('[..]+',\".\",answer)\n",
    "    # 4단계 마침표 처음이나 끝에 있으면 제거\n",
    "    answer = re.sub('^\\.|\\.$','',answer)\n",
    "    # 5단계 문자열이 비었다면 a 대입\n",
    "    if answer == '': \n",
    "        answer = 'a'\n",
    "    # 6단계 길이가 16이상이면 15까지만 잘라냄\n",
    "    if len(answer)>=16:\n",
    "        answer = answer[:15]\n",
    "        # 마지막 문자가 . 이라면 제거\n",
    "        if answer[-1] == '.':\n",
    "            answer = re.sub('.$','',answer)\n",
    "    # 7단계 길이가 2이하면 길이가 3이 될때까지 마지막 문자를 추가\n",
    "    while len(answer) <= 2:\n",
    "        answer += answer[-1]\n",
    "    return answer"
   ]
  }
 ],
 "metadata": {
  "kernelspec": {
   "display_name": "t_academy",
   "language": "python",
   "name": "python3"
  },
  "language_info": {
   "codemirror_mode": {
    "name": "ipython",
    "version": 3
   },
   "file_extension": ".py",
   "mimetype": "text/x-python",
   "name": "python",
   "nbconvert_exporter": "python",
   "pygments_lexer": "ipython3",
   "version": "3.10.8 | packaged by conda-forge | (main, Nov 24 2022, 14:07:00) [MSC v.1916 64 bit (AMD64)]"
  },
  "orig_nbformat": 4,
  "vscode": {
   "interpreter": {
    "hash": "050822da0265a2ede893b2e5a218ecba40703c5d8fd639a2141dfb5681f45c17"
   }
  }
 },
 "nbformat": 4,
 "nbformat_minor": 2
}
