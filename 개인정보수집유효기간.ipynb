{
 "cells": [
  {
   "cell_type": "code",
   "execution_count": 1,
   "metadata": {},
   "outputs": [],
   "source": [
    "def datetoday(date): # 대소 비교를 위해 일수로 변환\n",
    "    year,month,day = map(int,date.split(\".\"))\n",
    "    return year*12*28 + month*28 + day\n",
    "\n",
    "def solution(today, terms, privacies):\n",
    "    \n",
    "    answer = []\n",
    "    type_dic = {} # 약관 종류 Dictionary\n",
    "    today = datetoday(today)\n",
    "    \n",
    "    for term in terms:\n",
    "        \n",
    "        a = term.split(' ')[0]\n",
    "        b = int(term.split(' ')[1])\n",
    "        type_dic[a] = b*28\n",
    "        \n",
    "    for idx, p in enumerate(privacies):\n",
    "        \n",
    "        date, type = p.split(' ')\n",
    "        if datetoday(date) + type_dic[type] <= today:\n",
    "            answer.append(idx+1)\n",
    "        \n",
    "    return answer"
   ]
  }
 ],
 "metadata": {
  "kernelspec": {
   "display_name": "t_academy",
   "language": "python",
   "name": "python3"
  },
  "language_info": {
   "codemirror_mode": {
    "name": "ipython",
    "version": 3
   },
   "file_extension": ".py",
   "mimetype": "text/x-python",
   "name": "python",
   "nbconvert_exporter": "python",
   "pygments_lexer": "ipython3",
   "version": "3.10.8"
  },
  "orig_nbformat": 4
 },
 "nbformat": 4,
 "nbformat_minor": 2
}
