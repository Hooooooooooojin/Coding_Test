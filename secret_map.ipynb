{
 "cells": [
  {
   "cell_type": "code",
   "execution_count": 1,
   "metadata": {},
   "outputs": [],
   "source": [
    "def solution(n, arr1, arr2):\n",
    "\n",
    "    answer = []\n",
    "\n",
    "    for i in range(n):\n",
    "        # bin: 이진수로 변환\n",
    "        # or 연산을 통해 둘다 0이면 0 하나라도 1이면 1\n",
    "        tmp = bin(arr1[i]|arr2[i])\n",
    "        tmp = tmp[2:].zfill(n) # n칸 중 빈 곳을 0으로 채움\n",
    "        tmp = tmp.replace('1','#').replace('0',' ') # 1은 #으로 0은 공백으로 바꿈\n",
    "\n",
    "        answer.append(tmp)\n",
    "    \n",
    "    return answer"
   ]
  }
 ],
 "metadata": {
  "kernelspec": {
   "display_name": "t_academy",
   "language": "python",
   "name": "python3"
  },
  "language_info": {
   "codemirror_mode": {
    "name": "ipython",
    "version": 3
   },
   "file_extension": ".py",
   "mimetype": "text/x-python",
   "name": "python",
   "nbconvert_exporter": "python",
   "pygments_lexer": "ipython3",
   "version": "3.10.8"
  },
  "orig_nbformat": 4,
  "vscode": {
   "interpreter": {
    "hash": "050822da0265a2ede893b2e5a218ecba40703c5d8fd639a2141dfb5681f45c17"
   }
  }
 },
 "nbformat": 4,
 "nbformat_minor": 2
}
