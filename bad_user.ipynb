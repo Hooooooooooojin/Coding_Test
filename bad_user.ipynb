{
 "cells": [
  {
   "cell_type": "code",
   "execution_count": 7,
   "metadata": {},
   "outputs": [],
   "source": [
    "from itertools import permutations\n",
    "import re\n",
    "\n",
    "def solution(user_id, banned_id):\n",
    "\n",
    "    answer = 0\n",
    "\n",
    "    ban = '_'.join(banned_id).replace('*','.') # pattern 생성: 정규 표현식 '.' 을 활용해 어느 문자가 오던 일치\n",
    "\n",
    "    temp = set()\n",
    "\n",
    "    for i in permutations(user_id,len(banned_id)): # 순열 생성\n",
    "\n",
    "        if re.fullmatch(ban,'_'.join(i)): # pattern과 완전 일치하면 \n",
    "\n",
    "            temp.add('_'.join(sorted(i)))\n",
    "\n",
    "    answer += len(temp)\n",
    "\n",
    "    return answer"
   ]
  }
 ],
 "metadata": {
  "kernelspec": {
   "display_name": "t_academy",
   "language": "python",
   "name": "python3"
  },
  "language_info": {
   "codemirror_mode": {
    "name": "ipython",
    "version": 3
   },
   "file_extension": ".py",
   "mimetype": "text/x-python",
   "name": "python",
   "nbconvert_exporter": "python",
   "pygments_lexer": "ipython3",
   "version": "3.10.8 | packaged by conda-forge | (main, Nov 24 2022, 14:07:00) [MSC v.1916 64 bit (AMD64)]"
  },
  "orig_nbformat": 4,
  "vscode": {
   "interpreter": {
    "hash": "050822da0265a2ede893b2e5a218ecba40703c5d8fd639a2141dfb5681f45c17"
   }
  }
 },
 "nbformat": 4,
 "nbformat_minor": 2
}
