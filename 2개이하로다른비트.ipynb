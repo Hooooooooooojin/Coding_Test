{
 "cells": [
  {
   "cell_type": "code",
   "execution_count": 1,
   "metadata": {},
   "outputs": [],
   "source": [
    "def solution(numbers):\n",
    "    \n",
    "    answer = []\n",
    "    \n",
    "    for number in numbers:\n",
    "        \n",
    "        bin_num = list('0'+bin(number)[2:]) # 2진수로 만들어주고 편의를 위해 앞에 0을 붙임\n",
    "        idx = ''.join(bin_num).rfind('0') # 가장 뒤에 있는 0의 인덱스를 찾음\n",
    "        bin_num[idx] = '1' # 그 인덱스를 1로 바꿔줌\n",
    "        \n",
    "        if number % 2 == 1: # 홀수면\n",
    "            \n",
    "            bin_num[idx+1] = '0' # 다음 인덱스는 0으로 바꿔줌\n",
    "            \n",
    "        answer.append(int(''.join(bin_num),2))\n",
    "        \n",
    "    return answer"
   ]
  }
 ],
 "metadata": {
  "kernelspec": {
   "display_name": "t_academy",
   "language": "python",
   "name": "python3"
  },
  "language_info": {
   "codemirror_mode": {
    "name": "ipython",
    "version": 3
   },
   "file_extension": ".py",
   "mimetype": "text/x-python",
   "name": "python",
   "nbconvert_exporter": "python",
   "pygments_lexer": "ipython3",
   "version": "3.10.8"
  },
  "orig_nbformat": 4
 },
 "nbformat": 4,
 "nbformat_minor": 2
}
