{
 "cells": [
  {
   "cell_type": "code",
   "execution_count": 1,
   "metadata": {},
   "outputs": [],
   "source": [
    "from itertools import combinations\n",
    "from collections import Counter\n",
    "\n",
    "def solution(orders, course):\n",
    "\n",
    "    answer = []\n",
    "    for i in course: # 조합의 개수\n",
    "        temp = []\n",
    "        for j in orders: \n",
    "            c = combinations(sorted(j),i) # 메뉴둘을 조합\n",
    "            temp += c \n",
    "        counter = Counter(temp) # 메뉴 조합을 count\n",
    "        \n",
    "        if len(counter) != 0 and max(counter.values()) != 1: # 주문된 적 없는 조합의 수면 안되고 2번 이상 주문된 조합\n",
    "            answer += [''.join(f) for f in counter if counter[f] == max(counter.values())] # 제일 많이 주문된 것들만\n",
    "\n",
    "    return sorted(answer)"
   ]
  }
 ],
 "metadata": {
  "kernelspec": {
   "display_name": "t_academy",
   "language": "python",
   "name": "python3"
  },
  "language_info": {
   "codemirror_mode": {
    "name": "ipython",
    "version": 3
   },
   "file_extension": ".py",
   "mimetype": "text/x-python",
   "name": "python",
   "nbconvert_exporter": "python",
   "pygments_lexer": "ipython3",
   "version": "3.10.8 | packaged by conda-forge | (main, Nov 24 2022, 14:07:00) [MSC v.1916 64 bit (AMD64)]"
  },
  "orig_nbformat": 4,
  "vscode": {
   "interpreter": {
    "hash": "050822da0265a2ede893b2e5a218ecba40703c5d8fd639a2141dfb5681f45c17"
   }
  }
 },
 "nbformat": 4,
 "nbformat_minor": 2
}
