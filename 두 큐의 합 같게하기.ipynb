{
 "cells": [
  {
   "cell_type": "code",
   "execution_count": 1,
   "metadata": {},
   "outputs": [],
   "source": [
    "from collections import deque\n",
    "\n",
    "def solution(queue1, queue2):\n",
    "    answer = 0\n",
    "\n",
    "    dq1 = deque(queue1)\n",
    "    dq2 = deque(queue2)\n",
    "    sum1 = sum(dq1)\n",
    "    sum2 = sum(dq2)\n",
    "    tot_sum = sum1 + sum2 # 30 - 15/15 로 만들어야돼\n",
    "    limit = len(dq1) * 4\n",
    "    \n",
    "    if tot_sum % 2 != 0: # 두 큐의 합을 같게 만들 수 없는 경우\n",
    "        answer = -1\n",
    "        \n",
    "    while True:\n",
    "        \n",
    "        if sum1 > sum2:\n",
    "            temp = dq1.popleft()\n",
    "            dq2.append(temp)\n",
    "            sum1 -= temp\n",
    "            sum2 += temp\n",
    "            answer += 1\n",
    "            \n",
    "        elif sum1 < sum2:\n",
    "            temp = dq2.popleft()\n",
    "            dq1.append(temp)\n",
    "            sum1 += temp\n",
    "            sum2 -= temp\n",
    "            answer += 1\n",
    "            \n",
    "        else:\n",
    "            break\n",
    "            \n",
    "        if answer >= limit:\n",
    "            answer = -1\n",
    "            break\n",
    "        \n",
    "    return answer"
   ]
  }
 ],
 "metadata": {
  "kernelspec": {
   "display_name": "t_academy",
   "language": "python",
   "name": "python3"
  },
  "language_info": {
   "codemirror_mode": {
    "name": "ipython",
    "version": 3
   },
   "file_extension": ".py",
   "mimetype": "text/x-python",
   "name": "python",
   "nbconvert_exporter": "python",
   "pygments_lexer": "ipython3",
   "version": "3.10.8"
  },
  "orig_nbformat": 4
 },
 "nbformat": 4,
 "nbformat_minor": 2
}
