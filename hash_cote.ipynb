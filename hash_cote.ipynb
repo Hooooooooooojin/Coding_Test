{
 "cells": [
  {
   "cell_type": "code",
   "execution_count": 1,
   "metadata": {},
   "outputs": [],
   "source": [
    "def solution(phone_book):\n",
    "\n",
    "    phone_book = sorted(phone_book)\n",
    "\n",
    "    answer=True\n",
    "\n",
    "    for i,j in zip(phone_book,phone_book[1:]):\n",
    "\n",
    "        print(i,j)\n",
    "\n",
    "        if j.startswith(i):\n",
    "\n",
    "            answer=False\n",
    "\n",
    "            break\n",
    "        \n",
    "    return answer"
   ]
  },
  {
   "cell_type": "code",
   "execution_count": 91,
   "metadata": {},
   "outputs": [],
   "source": [
    "def solution(genres, plays):\n",
    "    answer = []\n",
    "    dic = {} # 노래 별 재생 횟수, 인덱스\n",
    "    total_dic = {} # 전체 재생 횟수\n",
    "    \n",
    "    # 노래를 구분하는 dictionary 생성\n",
    "    for i in range(len(genres)): # key: 장르 / value: 노래 별 재생 횟수, 인덱스 \n",
    "        if genres[i] in dic:\n",
    "            dic[genres[i]] += [(plays[i],i)]\n",
    "        else:\n",
    "            dic[genres[i]] = [(plays[i],i)]\n",
    "\n",
    "    # 장르 구분 총 재생횟수 dictionary 생성\n",
    "    for i in range(len(genres)): # key: 장르 / value: 총 재생 횟수\n",
    "        if genres[i] in total_dic:\n",
    "            total_dic[genres[i]] += plays[i]\n",
    "        else:\n",
    "            total_dic[genres[i]] = plays[i]\n",
    "\n",
    "    total_dic = sorted(total_dic.items(),key=lambda x:x[1],reverse=True) # 재생 횟수 기준 정렬\n",
    "\n",
    "    for genre, num_play in total_dic:\n",
    "        dic[genre] = sorted(dic[genre],key=lambda x:(-x[0],x[1])) # 정렬 기준 1: 재생 횟수 큰 거 / 기준 2: 인덱스 작은 거\n",
    "        answer += [idx for (play,idx) in dic[genre][:2]] # 최대 2개만 수록\n",
    "\n",
    "    return answer"
   ]
  }
 ],
 "metadata": {
  "kernelspec": {
   "display_name": "t_academy",
   "language": "python",
   "name": "python3"
  },
  "language_info": {
   "codemirror_mode": {
    "name": "ipython",
    "version": 3
   },
   "file_extension": ".py",
   "mimetype": "text/x-python",
   "name": "python",
   "nbconvert_exporter": "python",
   "pygments_lexer": "ipython3",
   "version": "3.10.8"
  },
  "orig_nbformat": 4,
  "vscode": {
   "interpreter": {
    "hash": "050822da0265a2ede893b2e5a218ecba40703c5d8fd639a2141dfb5681f45c17"
   }
  }
 },
 "nbformat": 4,
 "nbformat_minor": 2
}
