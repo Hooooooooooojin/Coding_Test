{
 "cells": [
  {
   "cell_type": "code",
   "execution_count": 53,
   "metadata": {},
   "outputs": [],
   "source": [
    "def solution(files):\n",
    "\n",
    "    import re\n",
    "\n",
    "    answer = [re.split(r'([0-9]+)',i) for i in files] # 정규 표현식을 활용해 숫자인 걸 기준으로 split해 list 생성\n",
    "\n",
    "    answer.sort(key=lambda x:(x[0].lower(),int(x[1]))) # head, number 기준 정렬\n",
    "\n",
    "    answer = [''.join(i) for i in answer] # 다시 Join\n",
    "\n",
    "    return answer"
   ]
  }
 ],
 "metadata": {
  "kernelspec": {
   "display_name": "t_academy",
   "language": "python",
   "name": "python3"
  },
  "language_info": {
   "codemirror_mode": {
    "name": "ipython",
    "version": 3
   },
   "file_extension": ".py",
   "mimetype": "text/x-python",
   "name": "python",
   "nbconvert_exporter": "python",
   "pygments_lexer": "ipython3",
   "version": "3.10.8"
  },
  "orig_nbformat": 4,
  "vscode": {
   "interpreter": {
    "hash": "050822da0265a2ede893b2e5a218ecba40703c5d8fd639a2141dfb5681f45c17"
   }
  }
 },
 "nbformat": 4,
 "nbformat_minor": 2
}
