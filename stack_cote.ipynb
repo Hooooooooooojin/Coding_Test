{
 "cells": [
  {
   "cell_type": "code",
   "execution_count": 25,
   "metadata": {},
   "outputs": [],
   "source": [
    "def solution(arr):\n",
    "    answer = []\n",
    "    for i in range(len(arr)):\n",
    "        answer.append(arr[i])\n",
    "        if len(answer)>=2:\n",
    "            if answer[-1] == answer[-2]:\n",
    "                answer.pop()\n",
    "    return answer"
   ]
  },
  {
   "cell_type": "code",
   "execution_count": 24,
   "metadata": {},
   "outputs": [],
   "source": [
    "def solution(progresses, speeds):\n",
    "    answer = [] # 7,3,9\n",
    "\n",
    "    while progresses:\n",
    "        cnt = 0\n",
    "        while progresses and progresses[0]>=100:\n",
    "            cnt += 1\n",
    "            progresses.pop(0)\n",
    "            speeds.pop(0)\n",
    "\n",
    "        progresses = [progresses[i] + speeds[i] for i in range(len(progresses))]\n",
    "\n",
    "        if cnt != 0:\n",
    "            answer.append(cnt)\n",
    "\n",
    "    return answer"
   ]
  },
  {
   "cell_type": "code",
   "execution_count": 23,
   "metadata": {},
   "outputs": [],
   "source": [
    "from collections import deque\n",
    "\n",
    "def solution(s):\n",
    "    temp = deque()\n",
    "    answer = True\n",
    "\n",
    "    if s[0] == ')':\n",
    "\n",
    "        answer = False\n",
    "\n",
    "    for i in s:\n",
    "        if i == '(':\n",
    "            temp.append(i)\n",
    "        elif len(temp) != 0:\n",
    "            temp.popleft()\n",
    "            print(temp)\n",
    "\n",
    "    if len(temp) != 0:\n",
    "\n",
    "        answer = False\n",
    "        \n",
    "    return answer"
   ]
  },
  {
   "cell_type": "code",
   "execution_count": 35,
   "metadata": {},
   "outputs": [],
   "source": [
    "from collections import deque\n",
    "\n",
    "def solution(priorities, location):\n",
    "    answer = 0\n",
    "    dq = deque([(v,i) for i,v in enumerate(priorities)]) # (value, index) 조합으로 Queue 생성\n",
    "\n",
    "    while len(dq):\n",
    "\n",
    "        item = dq.popleft() # 앞에 있는 걸 빼서\n",
    "\n",
    "        if dq and max(dq)[0] > item[0]: # 우선순위 가장 높은 것보다 작으면\n",
    "\n",
    "            dq.append(item) # 뒤로 보내고\n",
    "\n",
    "        else: # 우선순위 가장 높은 거면\n",
    "\n",
    "            answer += 1 # 프린트 (+ 1회)\n",
    "\n",
    "            if item[1] == location: # 빼다보니 내 문서 차례면\n",
    "\n",
    "                break # 끝\n",
    "            \n",
    "    return answer"
   ]
  },
  {
   "cell_type": "code",
   "execution_count": 1,
   "metadata": {},
   "outputs": [],
   "source": [
    "from collections import deque\n",
    "\n",
    "def solution(bridge_length, weight, truck_weights):\n",
    "    answer = 0\n",
    "    total_weight = 0 # 다리 위 무게 측정을 위한 변수\n",
    "    on = deque([0]*bridge_length) # 다리 길이만큼 \n",
    "    truck_weights = deque(truck_weights) \n",
    "    \n",
    "    while truck_weights: # 대기 트럭이 있는 동안 반복\n",
    "        answer += 1\n",
    "        total_weight -= on.popleft() # 다리에 있는 트럭을 빼주고 그 만큼 무게를 빼줌\n",
    "        \n",
    "        if total_weight + truck_weights[0] <= weight: # 다리 위에 있는 트럭과 들어올 트럭의 무게의 합이 최대 지탱 가능 무게보다 작다면\n",
    "            t = truck_weights.popleft() # 대기 트럭이\n",
    "            on.append(t) # 다리를 지나가게 함\n",
    "            total_weight += t  # 그 만큼 무게를 더해줌\n",
    "\n",
    "        else: # 무게보다 크면 대기 트럭을 들이지 않도록\n",
    "            on.append(0) # 다리 길이 유지를 위해 0 더해줌\n",
    "        \n",
    "    answer += bridge_length # 마지막 트럭이 지나가는 경우도 더해줌\n",
    "\n",
    "    return answer"
   ]
  }
 ],
 "metadata": {
  "kernelspec": {
   "display_name": "t_academy",
   "language": "python",
   "name": "python3"
  },
  "language_info": {
   "codemirror_mode": {
    "name": "ipython",
    "version": 3
   },
   "file_extension": ".py",
   "mimetype": "text/x-python",
   "name": "python",
   "nbconvert_exporter": "python",
   "pygments_lexer": "ipython3",
   "version": "3.10.8"
  },
  "orig_nbformat": 4,
  "vscode": {
   "interpreter": {
    "hash": "050822da0265a2ede893b2e5a218ecba40703c5d8fd639a2141dfb5681f45c17"
   }
  }
 },
 "nbformat": 4,
 "nbformat_minor": 2
}
