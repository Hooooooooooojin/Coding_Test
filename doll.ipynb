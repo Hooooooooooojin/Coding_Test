{
 "cells": [
  {
   "cell_type": "code",
   "execution_count": 46,
   "metadata": {},
   "outputs": [],
   "source": [
    "def solution(board, moves):\n",
    "    answer = 0\n",
    "    stack = []\n",
    "    for i in moves:\n",
    "        for j in range(len(board)):\n",
    "            if board[j][i-1] != 0: # 빈칸이 아닌 경우\n",
    "                stack.append(board[j][i-1]) \n",
    "                \n",
    "                if len(stack) >= 2: # 2개 이상이면 비교\n",
    "                    if stack[-2] == stack[-1]: # 연속해서 같은 인형이면\n",
    "                        stack.pop()\n",
    "                        stack.pop()\n",
    "                        answer += 2              \n",
    "                board[j][i-1]= 0 # 뽑은 곳은 빈칸으로 만들어줌\n",
    "                break # 인형 뽑았으니 for문을 종료하고 다음 move로\n",
    "            else:\n",
    "                continue\n",
    "    return answer"
   ]
  }
 ],
 "metadata": {
  "kernelspec": {
   "display_name": "t_academy",
   "language": "python",
   "name": "python3"
  },
  "language_info": {
   "codemirror_mode": {
    "name": "ipython",
    "version": 3
   },
   "file_extension": ".py",
   "mimetype": "text/x-python",
   "name": "python",
   "nbconvert_exporter": "python",
   "pygments_lexer": "ipython3",
   "version": "3.10.8 | packaged by conda-forge | (main, Nov 24 2022, 14:07:00) [MSC v.1916 64 bit (AMD64)]"
  },
  "orig_nbformat": 4,
  "vscode": {
   "interpreter": {
    "hash": "050822da0265a2ede893b2e5a218ecba40703c5d8fd639a2141dfb5681f45c17"
   }
  }
 },
 "nbformat": 4,
 "nbformat_minor": 2
}
