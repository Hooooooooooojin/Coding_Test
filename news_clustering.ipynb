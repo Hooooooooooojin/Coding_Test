{
 "cells": [
  {
   "cell_type": "code",
   "execution_count": 90,
   "metadata": {},
   "outputs": [],
   "source": [
    "def solution(str1, str2):\n",
    "    answer = 0\n",
    "    # 대소문자 구분 제거\n",
    "    l_str1 = str1.lower() \n",
    "    l_str2 = str2.lower()\n",
    "    tmp1 = []\n",
    "    tmp2 = []\n",
    "    for i in range(len(l_str1)-1):\n",
    "        if l_str1[i].isalpha() & l_str1[i+1].isalpha(): # 영문자인 경우에 대해서만 \n",
    "            tmp1.append(l_str1[i:i+2])\n",
    "    for i in range(len(l_str2)-1):\n",
    "        if l_str2[i].isalpha() & l_str2[i+1].isalpha(): # 영문자인 경우에 대해서만 \n",
    "            tmp2.append(l_str2[i:i+2])\n",
    "    i_list = set(tmp1)&set(tmp2) # 교집합 원소\n",
    "    u_list = set(tmp1)|set(tmp2) # 합집합 원소\n",
    "    i_len = sum([min(tmp1.count(i),tmp2.count(i)) for i in i_list]) \n",
    "    u_len = sum([max(tmp1.count(u),tmp2.count(u)) for u in u_list])\n",
    "    if u_len == 0:\n",
    "        answer = 1\n",
    "    else:\n",
    "        answer = int(i_len/u_len*65536)\n",
    "    return answer"
   ]
  },
  {
   "cell_type": "code",
   "execution_count": 48,
   "metadata": {},
   "outputs": [],
   "source": [
    "def solution(str1,str2):\n",
    "    import re\n",
    "    answer = 0\n",
    "    # 정규식을 활용해 영문이 아닌 것들을 뺀 나머지 것들이 아니라면 list에 추가\n",
    "    tmp1 = [str1[i:i+2].lower() for i in range(len(str1)-1) if not re.findall('[^a-zA-Z]+',str1[i:i+2])]\n",
    "    tmp2 = [str2[i:i+2].lower() for i in range(len(str2)-1) if not re.findall('[^a-zA-Z]+',str2[i:i+2])]\n",
    "    i_list = set(tmp1)&set(tmp2) # 교집합 원소\n",
    "    u_list = set(tmp1)|set(tmp2) # 합집합 원소\n",
    "    i_len = sum([min(tmp1.count(i),tmp2.count(i)) for i in i_list]) \n",
    "    u_len = sum([max(tmp1.count(u),tmp2.count(u)) for u in u_list])\n",
    "\n",
    "    if u_len == 0:\n",
    "            answer = 1\n",
    "    else:\n",
    "        answer = int(i_len/u_len*65536)\n",
    "\n",
    "    return answer"
   ]
  }
 ],
 "metadata": {
  "kernelspec": {
   "display_name": "t_academy",
   "language": "python",
   "name": "python3"
  },
  "language_info": {
   "codemirror_mode": {
    "name": "ipython",
    "version": 3
   },
   "file_extension": ".py",
   "mimetype": "text/x-python",
   "name": "python",
   "nbconvert_exporter": "python",
   "pygments_lexer": "ipython3",
   "version": "3.10.8 | packaged by conda-forge | (main, Nov 24 2022, 14:07:00) [MSC v.1916 64 bit (AMD64)]"
  },
  "orig_nbformat": 4,
  "vscode": {
   "interpreter": {
    "hash": "050822da0265a2ede893b2e5a218ecba40703c5d8fd639a2141dfb5681f45c17"
   }
  }
 },
 "nbformat": 4,
 "nbformat_minor": 2
}
