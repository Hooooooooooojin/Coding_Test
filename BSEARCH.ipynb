{
 "cells": [
  {
   "attachments": {},
   "cell_type": "markdown",
   "metadata": {},
   "source": [
    "1. 입국심사"
   ]
  },
  {
   "cell_type": "code",
   "execution_count": 2,
   "metadata": {},
   "outputs": [
    {
     "data": {
      "text/plain": [
       "28"
      ]
     },
     "execution_count": 2,
     "metadata": {},
     "output_type": "execute_result"
    }
   ],
   "source": [
    "def solution(n,times):\n",
    "\n",
    "    answer = 0\n",
    "    # 1~60\n",
    "    min_tm = 1\n",
    "    max_tm = max(times)*n\n",
    "\n",
    "    while min_tm <= max_tm:\n",
    "\n",
    "        mid = (min_tm + max_tm) // 2 # 30.5\n",
    "\n",
    "        people = 0\n",
    "\n",
    "        for time in times:\n",
    "\n",
    "            people += mid // time\n",
    "\n",
    "            if people >= n:\n",
    "\n",
    "                break\n",
    "\n",
    "        if people >= n:\n",
    "\n",
    "            answer = mid\n",
    "            max_tm = mid - 1\n",
    "\n",
    "        else:\n",
    "\n",
    "            min_tm = mid + 1\n",
    "        \n",
    "\n",
    "    return answer\n",
    "\n",
    "solution(6,[7,10])"
   ]
  },
  {
   "attachments": {},
   "cell_type": "markdown",
   "metadata": {},
   "source": [
    "2. 징검다리"
   ]
  },
  {
   "cell_type": "code",
   "execution_count": 5,
   "metadata": {},
   "outputs": [
    {
     "data": {
      "text/plain": [
       "4"
      ]
     },
     "execution_count": 5,
     "metadata": {},
     "output_type": "execute_result"
    }
   ],
   "source": [
    "def solution(distance,rocks,n):\n",
    "    answer = 0\n",
    "    rocks.sort()\n",
    "\n",
    "    min_dist = 1\n",
    "    max_dist = distance\n",
    "\n",
    "    while min_dist <= max_dist:\n",
    "\n",
    "        mid = (min_dist+max_dist)//2\n",
    "        current = 0\n",
    "        rock_cnt = 0\n",
    "\n",
    "        for rock in rocks:\n",
    "\n",
    "            interval = rock - current\n",
    "\n",
    "            if interval < mid:\n",
    "\n",
    "                rock_cnt += 1\n",
    "\n",
    "            else:\n",
    "\n",
    "                current = rock\n",
    "\n",
    "        if rock_cnt > n:\n",
    "\n",
    "            max_dist = mid - 1\n",
    "\n",
    "        else:\n",
    "\n",
    "            min_dist = mid + 1\n",
    "            answer = mid\n",
    "\n",
    "    return answer\n",
    "\n",
    "\n",
    "solution(25,[2,14,11,21,17],2)"
   ]
  }
 ],
 "metadata": {
  "kernelspec": {
   "display_name": "t_academy",
   "language": "python",
   "name": "python3"
  },
  "language_info": {
   "codemirror_mode": {
    "name": "ipython",
    "version": 3
   },
   "file_extension": ".py",
   "mimetype": "text/x-python",
   "name": "python",
   "nbconvert_exporter": "python",
   "pygments_lexer": "ipython3",
   "version": "3.10.8"
  },
  "orig_nbformat": 4,
  "vscode": {
   "interpreter": {
    "hash": "050822da0265a2ede893b2e5a218ecba40703c5d8fd639a2141dfb5681f45c17"
   }
  }
 },
 "nbformat": 4,
 "nbformat_minor": 2
}
