{
 "cells": [
  {
   "cell_type": "markdown",
   "metadata": {},
   "source": [
    "주어진 항공권을 모두 이용하여 여행경로를 짜려고 합니다. 항상 \"ICN\" 공항에서 출발합니다.\n",
    "\n",
    "항공권 정보가 담긴 2차원 배열 tickets가 매개변수로 주어질 때, 방문하는 공항 경로를 배열에 담아 return 하도록 solution 함수를 작성해주세요."
   ]
  },
  {
   "cell_type": "markdown",
   "metadata": {},
   "source": [
    "모든 공항은 알파벳 대문자 3글자로 이루어집니다.\n",
    "\n",
    "주어진 공항 수는 3개 이상 10,000개 이하입니다.\n",
    "\n",
    "tickets의 각 행 [a, b]는 a 공항에서 b 공항으로 가는 항공권이 있다는 의미입니다.\n",
    "\n",
    "주어진 항공권은 모두 사용해야 합니다.\n",
    "\n",
    "만일 가능한 경로가 2개 이상일 경우 알파벳 순서가 앞서는 경로를 return 합니다.\n",
    "\n",
    "모든 도시를 방문할 수 없는 경우는 주어지지 않습니다."
   ]
  },
  {
   "cell_type": "code",
   "execution_count": 39,
   "metadata": {},
   "outputs": [
    {
     "data": {
      "text/plain": [
       "['ICN', 'ATL', 'ICN', 'SFO', 'ATL', 'SFO']"
      ]
     },
     "execution_count": 39,
     "metadata": {},
     "output_type": "execute_result"
    }
   ],
   "source": [
    "tickets = [[\"ICN\", \"SFO\"], [\"ICN\", \"ATL\"], [\"SFO\", \"ATL\"], [\"ATL\", \"ICN\"], [\"ATL\", \"SFO\"]]\n",
    "\n",
    "def solution(tickets):\n",
    "\n",
    "    from collections import defaultdict\n",
    "\n",
    "    airport_graph = defaultdict(list) # 공항별로 여러 도착지가 있을 수 있으므로 Value의 자료 구조가 List 형식인 Dictionary 사용\n",
    "\n",
    "    for start, end in tickets: # 공항별 도착지 정보 추가\n",
    "\n",
    "        airport_graph[start].append(end)\n",
    "\n",
    "    answer = []\n",
    "\n",
    "    # 후입 선출 Stack, ICN 출발지 고정\n",
    "    stack = ['ICN']\n",
    "\n",
    "    for key in airport_graph.keys():\n",
    "\n",
    "        airport_graph[key].sort(reverse=True) # 알파벳 순서로 먼저 경유하고 Stack을 활용하므로 역정렬\n",
    "\n",
    "    while stack:\n",
    "\n",
    "        node = stack.pop()\n",
    "\n",
    "        if airport_graph[node]: # 아직 갈 경유지가 남았다면\n",
    "\n",
    "            stack.append(node) # 출발지\n",
    "            stack.append(airport_graph[node].pop()) # 목적지\n",
    "\n",
    "        else: # 더 이상 갈 경유지가 없다면 경로 추가\n",
    "            \n",
    "            answer.append(node)\n",
    "\n",
    "\n",
    "    return answer[::-1] # 역순이므로 반대로 반환\n",
    "\n",
    "solution(tickets)"
   ]
  }
 ],
 "metadata": {
  "kernelspec": {
   "display_name": "modeling_env",
   "language": "python",
   "name": "python3"
  },
  "language_info": {
   "codemirror_mode": {
    "name": "ipython",
    "version": 3
   },
   "file_extension": ".py",
   "mimetype": "text/x-python",
   "name": "python",
   "nbconvert_exporter": "python",
   "pygments_lexer": "ipython3",
   "version": "3.12.2"
  }
 },
 "nbformat": 4,
 "nbformat_minor": 2
}
