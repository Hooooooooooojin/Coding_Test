{
 "cells": [
  {
   "cell_type": "code",
   "execution_count": 1,
   "metadata": {},
   "outputs": [
    {
     "ename": "NameError",
     "evalue": "name 'cacheSize' is not defined",
     "output_type": "error",
     "traceback": [
      "\u001b[1;31m---------------------------------------------------------------------------\u001b[0m",
      "\u001b[1;31mNameError\u001b[0m                                 Traceback (most recent call last)",
      "Cell \u001b[1;32mIn[1], line 2\u001b[0m\n\u001b[0;32m      1\u001b[0m \u001b[39mfrom\u001b[39;00m \u001b[39mcollections\u001b[39;00m \u001b[39mimport\u001b[39;00m deque\n\u001b[1;32m----> 2\u001b[0m queue \u001b[39m=\u001b[39m deque(maxlen\u001b[39m=\u001b[39mcacheSize)\n\u001b[0;32m      3\u001b[0m answer \u001b[39m=\u001b[39m \u001b[39m0\u001b[39m\n\u001b[0;32m      4\u001b[0m \u001b[39mfor\u001b[39;00m i \u001b[39min\u001b[39;00m cities:\n",
      "\u001b[1;31mNameError\u001b[0m: name 'cacheSize' is not defined"
     ]
    }
   ],
   "source": [
    "def solution(cacheSize, cities):\n",
    "\n",
    "    from collections import deque # Queue 구조를 사용하기 위한 Library 호출\n",
    "\n",
    "    queue = deque(maxlen=cacheSize) # 캐시 사이즈 설정\n",
    "\n",
    "    answer = 0 # 실행 시간 초기 값 설정\n",
    "    for i in cities:\n",
    "\n",
    "        i = i.lower() # 대소문자 구분을 없애기\n",
    "\n",
    "        if i in queue: # cache hit\n",
    "            answer += 1 \n",
    "            # LRU\n",
    "            queue.remove(i) \n",
    "            queue.append(i)\n",
    "\n",
    "        else: # cache miss\n",
    "            answer += 5\n",
    "            queue.append(i)\n",
    "            \n",
    "    return answer"
   ]
  }
 ],
 "metadata": {
  "kernelspec": {
   "display_name": "t_academy",
   "language": "python",
   "name": "python3"
  },
  "language_info": {
   "codemirror_mode": {
    "name": "ipython",
    "version": 3
   },
   "file_extension": ".py",
   "mimetype": "text/x-python",
   "name": "python",
   "nbconvert_exporter": "python",
   "pygments_lexer": "ipython3",
   "version": "3.10.8"
  },
  "orig_nbformat": 4,
  "vscode": {
   "interpreter": {
    "hash": "050822da0265a2ede893b2e5a218ecba40703c5d8fd639a2141dfb5681f45c17"
   }
  }
 },
 "nbformat": 4,
 "nbformat_minor": 2
}
