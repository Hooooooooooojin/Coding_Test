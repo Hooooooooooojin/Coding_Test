{
 "cells": [
  {
   "cell_type": "markdown",
   "metadata": {},
   "source": [
    "실패율은 다음과 같이 정의한다.\n",
    "* 스테이지에 도달했으나 아직 클리어하지 못한 플레이어의 수 / 스테이지에 도달한 플레이어 수"
   ]
  },
  {
   "cell_type": "markdown",
   "metadata": {},
   "source": [
    "전체 스테이지의 개수 N, 게임을 이용하는 사용자가 현재 멈춰있는 스테이지의 번호가 담긴 배열 stages가 매개변수로 주어질 때, 실패율이 높은 스테이지부터 내림차순으로 스테이지의 번호가 담겨있는 배열을 return 하도록 solution 함수를 완성하라."
   ]
  },
  {
   "cell_type": "code",
   "execution_count": 25,
   "metadata": {},
   "outputs": [],
   "source": [
    "n = 437674\n",
    "k = 3\n",
    "\n",
    "# N진수 변환 함수\n",
    "def n_convert(k, n):\n",
    "\n",
    "    if k == 0:\n",
    "\n",
    "        return '0'\n",
    "\n",
    "    result = \"\"\n",
    "\n",
    "    while k > 0:\n",
    "\n",
    "        k, mod = divmod(k,n)\n",
    "\n",
    "        result += str(mod)\n",
    "\n",
    "    return result[::-1]\n",
    "\n",
    "# 소수 판별 함수\n",
    "def prime_number(x):\n",
    "\n",
    "    if x == 1:\n",
    "\n",
    "        return False\n",
    "    \n",
    "    elif x == 2 or x == 3:\n",
    "\n",
    "        return True\n",
    "\n",
    "    elif x % 2 == 0:\n",
    "\n",
    "        return False\n",
    "\n",
    "    for i in range(3, int(x**0.5+1), 2):\n",
    " \n",
    "        if x % i == 0:\n",
    "\n",
    "            return False\n",
    "        \n",
    "    return True\n",
    "\n",
    "def solution(n, k):\n",
    "\n",
    "    k_num = n_convert(n,k)\n",
    "\n",
    "    answer = len([int(_) for _ in k_num.split('0') if _ != '' and prime_number(int(_)) == True ])\n",
    "\n",
    "    return answer"
   ]
  }
 ],
 "metadata": {
  "kernelspec": {
   "display_name": "Python 3",
   "language": "python",
   "name": "python3"
  },
  "language_info": {
   "codemirror_mode": {
    "name": "ipython",
    "version": 3
   },
   "file_extension": ".py",
   "mimetype": "text/x-python",
   "name": "python",
   "nbconvert_exporter": "python",
   "pygments_lexer": "ipython3",
   "version": "3.12.2"
  }
 },
 "nbformat": 4,
 "nbformat_minor": 2
}
