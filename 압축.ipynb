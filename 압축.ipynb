{
 "cells": [
  {
   "cell_type": "code",
   "execution_count": 20,
   "metadata": {},
   "outputs": [],
   "source": [
    "def solution(msg):\n",
    "    answer = []\n",
    "    idx = 0\n",
    "    length = 0\n",
    "    dic = {'A':1,'B':2,'C':3,'D':4,'E':5,'F':6,\n",
    "            'G':7,'H':8,'I':9,'J':10,'K':11,'L':12,\n",
    "            'M':13,'N':14,'O':15,'P':16,'Q':17,'R':18,\n",
    "            'S':19,'T':20,'U':21,'V':22,'W':23,'X':24,'Y':25,'Z':26}\n",
    "     \n",
    "    # alphabet = 'ABCDEFGHIJKLMNOPQRSTUVWXYZ'\n",
    "\n",
    "    # dic = {k:v for k,v in zip(alphabet,range(1,27))}\n",
    "            \n",
    "    while True:\n",
    "        length += 1\n",
    "        if  msg[idx:idx+length] not in dic: # 그 다음 것부터 조회해서 dic에 없으면\n",
    "            answer.append(dic[msg[idx:idx+length-1]]) # 그 전까지의 value값을 출력\n",
    "            dic[msg[idx:idx+length]] = len(dic) + 1 # dic에 그 다음까지의 key,value를 추가\n",
    "            idx += length-1 # 없는 걸 추가해줬으니 끝이고 다시 새로 시작\n",
    "            length = 0 # length도 초기화\n",
    "        else: # dic에 이미 존재할 경우\n",
    "            if idx + length - 1 == len(msg):# 문자열의 끝까지 추가했을때 / 아니면 다음 루프로\n",
    "                answer.append(dic[msg[idx:idx+length-1]])\n",
    "                break\n",
    "            \n",
    "    return answer"
   ]
  }
 ],
 "metadata": {
  "kernelspec": {
   "display_name": "t_academy",
   "language": "python",
   "name": "python3"
  },
  "language_info": {
   "codemirror_mode": {
    "name": "ipython",
    "version": 3
   },
   "file_extension": ".py",
   "mimetype": "text/x-python",
   "name": "python",
   "nbconvert_exporter": "python",
   "pygments_lexer": "ipython3",
   "version": "3.10.8 | packaged by conda-forge | (main, Nov 24 2022, 14:07:00) [MSC v.1916 64 bit (AMD64)]"
  },
  "orig_nbformat": 4,
  "vscode": {
   "interpreter": {
    "hash": "050822da0265a2ede893b2e5a218ecba40703c5d8fd639a2141dfb5681f45c17"
   }
  }
 },
 "nbformat": 4,
 "nbformat_minor": 2
}
