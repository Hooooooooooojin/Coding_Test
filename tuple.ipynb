{
 "cells": [
  {
   "cell_type": "code",
   "execution_count": 101,
   "metadata": {},
   "outputs": [],
   "source": [
    "def solution(s):\n",
    "\n",
    "    from collections import Counter\n",
    "\n",
    "    answer = []\n",
    "\n",
    "    s1 = s.replace(\"{{\",'').replace(\"}}\",'').replace('{','').replace('}','')\n",
    "\n",
    "    s2 = s1.split(',')\n",
    "\n",
    "    tmp = Counter(s2).most_common() # most_common: dict에서 빈도수 기준으로 정렬\n",
    "\n",
    "    for i in tmp:\n",
    "\n",
    "        answer.append(int(i[0]))\n",
    "\n",
    "    return answer"
   ]
  },
  {
   "cell_type": "code",
   "execution_count": 100,
   "metadata": {},
   "outputs": [],
   "source": [
    "def solutions(s):\n",
    "    \n",
    "    import re\n",
    "\n",
    "    from collections import Counter\n",
    "\n",
    "    s = Counter(re.findall('\\d+',s)) # 숫자만 추출해서 빈도수 확인\n",
    "\n",
    "    return list(map(int, [k for k,v in sorted(s.items(),key=lambda x:x[1], reverse=True)]))"
   ]
  },
  {
   "cell_type": "code",
   "execution_count": null,
   "metadata": {},
   "outputs": [],
   "source": []
  }
 ],
 "metadata": {
  "kernelspec": {
   "display_name": "t_academy",
   "language": "python",
   "name": "python3"
  },
  "language_info": {
   "codemirror_mode": {
    "name": "ipython",
    "version": 3
   },
   "file_extension": ".py",
   "mimetype": "text/x-python",
   "name": "python",
   "nbconvert_exporter": "python",
   "pygments_lexer": "ipython3",
   "version": "3.10.8"
  },
  "orig_nbformat": 4,
  "vscode": {
   "interpreter": {
    "hash": "050822da0265a2ede893b2e5a218ecba40703c5d8fd639a2141dfb5681f45c17"
   }
  }
 },
 "nbformat": 4,
 "nbformat_minor": 2
}
