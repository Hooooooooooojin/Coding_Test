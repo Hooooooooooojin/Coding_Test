{
 "cells": [
  {
   "cell_type": "code",
   "execution_count": 1,
   "metadata": {},
   "outputs": [],
   "source": [
    "from collections import deque\n",
    "\n",
    "def solution(board):\n",
    "    dx = [-1, 1, 0 , 0, 1, 1, -1, -1]\n",
    "    dy = [0, 0, -1, 1, -1, 1, 1, -1]\n",
    "    length = len(board)\n",
    "    visited = [[False] * length for _ in range(length)]\n",
    "\n",
    "    def bfs(x, y):\n",
    "        dq = deque()\n",
    "        dq.append((x, y))\n",
    "        while dq:\n",
    "            a, b = dq.popleft()\n",
    "            visited[a][b] = True\n",
    "            for i in range(8):\n",
    "                nx = dx[i] + a\n",
    "                ny = dy[i] + b\n",
    "                #위험지역으로 둬야함 \n",
    "                if 0<=nx<length and 0<=ny<length and not visited[nx][ny]:\n",
    "                    if board[nx][ny] == 1: # 아직 안 간 지뢰 있는 곳 \n",
    "                        dq.append((nx, ny))\n",
    "                    else: # 아직 안갔지만 지뢰가 없으면\n",
    "                        board[nx][ny] = 2 # 굳이 갈 필요 없음 \n",
    "\n",
    "    for i in range(length):\n",
    "        for j in range(length):\n",
    "            if board[i][j] == 1:\n",
    "                bfs(i, j)\n",
    "    result = 0\n",
    "    for i in range(length):\n",
    "        result += board[i].count(0)\n",
    "        \n",
    "    return result"
   ]
  }
 ],
 "metadata": {
  "kernelspec": {
   "display_name": "t_academy",
   "language": "python",
   "name": "python3"
  },
  "language_info": {
   "codemirror_mode": {
    "name": "ipython",
    "version": 3
   },
   "file_extension": ".py",
   "mimetype": "text/x-python",
   "name": "python",
   "nbconvert_exporter": "python",
   "pygments_lexer": "ipython3",
   "version": "3.10.8"
  },
  "orig_nbformat": 4
 },
 "nbformat": 4,
 "nbformat_minor": 2
}
