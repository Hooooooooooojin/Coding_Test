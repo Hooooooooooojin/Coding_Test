{
 "cells": [
  {
   "cell_type": "markdown",
   "metadata": {},
   "source": [
    "완호가 관리하는 어떤 데이터베이스의 한 테이블은 모두 정수 타입인 컬럼들로 이루어져 있습니다. \n",
    "\n",
    "테이블은 2차원 행렬로 표현할 수 있으며 열은 컬럼을 나타내고, 행은 튜플을 나타냅니다.\n",
    "\n",
    "첫 번째 컬럼은 기본키로서 모든 튜플에 대해 그 값이 중복되지 않도록 보장됩니다. \n",
    "\n",
    "완호는 이 테이블에 대한 해시 함수를 다음과 같이 정의하였습니다."
   ]
  },
  {
   "cell_type": "markdown",
   "metadata": {},
   "source": [
    "해시 함수는 col, row_begin, row_end을 입력으로 받습니다.\n",
    "\n",
    "테이블의 튜플을 col번째 컬럼의 값을 기준으로 오름차순 정렬을 하되, 만약 그 값이 동일하면 기본키인 첫 번째 컬럼의 값을 기준으로 내림차순 정렬합니다.\n",
    "\n",
    "정렬된 데이터에서 S_i를 i 번째 행의 튜플에 대해 각 컬럼의 값을 i 로 나눈 나머지들의 합으로 정의합니다.\n",
    "\n",
    "row_begin ≤ i ≤ row_end 인 모든 S_i를 누적하여 bitwise XOR 한 값을 해시 값으로서 반환합니다."
   ]
  },
  {
   "cell_type": "code",
   "execution_count": 11,
   "metadata": {},
   "outputs": [
    {
     "data": {
      "text/plain": [
       "4"
      ]
     },
     "execution_count": 11,
     "metadata": {},
     "output_type": "execute_result"
    }
   ],
   "source": [
    "data = [[2,2,6],[1,5,10],[4,2,9],[3,8,3]]\n",
    "col = 2\n",
    "row_begin = 2\n",
    "row_end = 3\n",
    "\n",
    "def solution(data, col, row_begin, row_end):\n",
    "\n",
    "    from functools import reduce # reduce: 요소들을 누적하여 연산할 수 있음\n",
    "\n",
    "    tmp = []\n",
    "    sorted_data = sorted(data, key = lambda x: (x[col-1], -x[0])) # 정렬 기준) 1. col번째 컬럼 값 기준 오름차순 2. 첫 번째 컬럼 값 기준 내림차순\n",
    "\n",
    "    for i in range(row_begin, row_end+1):\n",
    "\n",
    "        S_I = sum([divmod(n,i)[1] for n in sorted_data[i-1]]) # 각 행번호로 나눴을 때의 나머지들의 합\n",
    "        tmp.append(S_I)\n",
    "\n",
    "    answer = reduce(lambda x,y: x^y, tmp) # bitwise XOR 연산\n",
    "\n",
    "    return answer\n",
    "\n",
    "solution(data, col, row_begin, row_end)"
   ]
  }
 ],
 "metadata": {
  "kernelspec": {
   "display_name": "modeling_env",
   "language": "python",
   "name": "python3"
  },
  "language_info": {
   "codemirror_mode": {
    "name": "ipython",
    "version": 3
   },
   "file_extension": ".py",
   "mimetype": "text/x-python",
   "name": "python",
   "nbconvert_exporter": "python",
   "pygments_lexer": "ipython3",
   "version": "3.12.2"
  }
 },
 "nbformat": 4,
 "nbformat_minor": 2
}
