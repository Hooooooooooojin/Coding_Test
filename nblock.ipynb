{
 "cells": [
  {
   "cell_type": "code",
   "execution_count": 1,
   "metadata": {},
   "outputs": [],
   "source": [
    "def solution(m, n, board):\n",
    "    answer = 0\n",
    "    xy = set() # 중복되는 경우를 없애기 위해 집합의 형태로 모아줌\n",
    "    for i in range(m):\n",
    "        board[i] = list(board[i]) \n",
    "    # 돌면서 지울 블록이 있는 좌표들을 set에 추가\n",
    "    while True:\n",
    "        for i in range(m-1): # 세로    \n",
    "            for j in range(n-1): # 가로\n",
    "                tmp = board[i][j]\n",
    "                if tmp == []: # 비어있으면 다음 단계로\n",
    "                    continue\n",
    "                if (board[i+1][j] == tmp) and (board[i][j+1] == tmp) and (board[i+1][j+1] == tmp): # 2X2 지울 수 있다면\n",
    "                    # 해당 좌표들을 집합에 추가\n",
    "                    xy.add((i,j));xy.add((i+1,j)) \n",
    "                    xy.add((i,j+1));xy.add((i+1,j+1))\n",
    "\n",
    "        if xy: # 집합에 존재하는 경우들에 대해\n",
    "            answer += len(xy) # 집합 원소 갯수 = 깰 수 있는 블록의 수\n",
    "            for i,j in xy: # 깨줬으므로 해당 좌표를 원래 블록에서 빈칸으로 만들어줌\n",
    "                board[i][j] = []\n",
    "            xy = set() # 집합 초기화\n",
    "        else:\n",
    "            return answer\n",
    "\n",
    "        while True:\n",
    "            idx = 0\n",
    "            for i in range(m-1):\n",
    "                for j in range(n):\n",
    "                    if board[i][j] and board[i+1][j] == []: # 아래가 비었으면, 위에 블록을 아래로 옮겨줌\n",
    "                        board[i+1][j] = board[i][j]\n",
    "                        board[i][j] = []\n",
    "                        idx = 1\n",
    "                    \n",
    "            if idx == 0:\n",
    "                break\n"
   ]
  }
 ],
 "metadata": {
  "kernelspec": {
   "display_name": "t_academy",
   "language": "python",
   "name": "python3"
  },
  "language_info": {
   "codemirror_mode": {
    "name": "ipython",
    "version": 3
   },
   "file_extension": ".py",
   "mimetype": "text/x-python",
   "name": "python",
   "nbconvert_exporter": "python",
   "pygments_lexer": "ipython3",
   "version": "3.10.8"
  },
  "orig_nbformat": 4,
  "vscode": {
   "interpreter": {
    "hash": "050822da0265a2ede893b2e5a218ecba40703c5d8fd639a2141dfb5681f45c17"
   }
  }
 },
 "nbformat": 4,
 "nbformat_minor": 2
}
