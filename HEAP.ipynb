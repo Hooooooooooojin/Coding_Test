{
 "cells": [
  {
   "attachments": {},
   "cell_type": "markdown",
   "metadata": {},
   "source": [
    "1. 더 맵게"
   ]
  },
  {
   "cell_type": "code",
   "execution_count": 5,
   "metadata": {},
   "outputs": [
    {
     "data": {
      "text/plain": [
       "2"
      ]
     },
     "execution_count": 5,
     "metadata": {},
     "output_type": "execute_result"
    }
   ],
   "source": [
    "from heapq import *\n",
    "\n",
    "def solution(scoville,K):\n",
    "    answer = 0\n",
    "    heapify(scoville)\n",
    "\n",
    "    while scoville[0] < K and len(scoville)>1:\n",
    "        \n",
    "        f = heappop(scoville)\n",
    "        s = heappop(scoville)\n",
    "\n",
    "        heappush(scoville, f+2*s)\n",
    "\n",
    "        answer += 1\n",
    "    \n",
    "    if scoville[0] < K:\n",
    "\n",
    "        answer = -1\n",
    "\n",
    "    return answer\n",
    "\n",
    "solution([1,2,3,9,10,12],7)\n"
   ]
  },
  {
   "attachments": {},
   "cell_type": "markdown",
   "metadata": {},
   "source": [
    "2. 디스크 컨트롤러"
   ]
  },
  {
   "cell_type": "code",
   "execution_count": 3,
   "metadata": {},
   "outputs": [
    {
     "data": {
      "text/plain": [
       "9"
      ]
     },
     "execution_count": 3,
     "metadata": {},
     "output_type": "execute_result"
    }
   ],
   "source": [
    "from heapq import *\n",
    "\n",
    "def solution(jobs):\n",
    "\n",
    "    answer = 0\n",
    "    now, i = 0,0\n",
    "    start = -1\n",
    "    heap = []\n",
    "\n",
    "    while i < len(jobs):\n",
    "\n",
    "        for job in jobs:\n",
    "            if start < job[0] <= now:\n",
    "                heappush(heap,[job[1],job[0]])\n",
    "\n",
    "        if len(heap) > 0:\n",
    "            current = heappop(heap)\n",
    "            start = now\n",
    "            now += current[0]\n",
    "            answer += now - current[1]\n",
    "            i += 1\n",
    "        else:\n",
    "            now += 1\n",
    "\n",
    "    return answer // len(jobs)\n",
    "\n",
    "solution([[0,3],[1,9],[2,6]])"
   ]
  },
  {
   "attachments": {},
   "cell_type": "markdown",
   "metadata": {},
   "source": [
    "3. 이중우선순위큐"
   ]
  },
  {
   "cell_type": "code",
   "execution_count": 6,
   "metadata": {},
   "outputs": [
    {
     "data": {
      "text/plain": [
       "(333, -45)"
      ]
     },
     "execution_count": 6,
     "metadata": {},
     "output_type": "execute_result"
    }
   ],
   "source": [
    "from heapq import *\n",
    "\n",
    "def solution(operations):\n",
    "    answer = []\n",
    "    for operation in operations:\n",
    "        action, value  = operation.split(' ')\n",
    "        value = int(value)\n",
    "\n",
    "        if answer and action == 'D' and value == 1:\n",
    "\n",
    "            max_value = max(answer)\n",
    "            answer.remove(max_value)\n",
    "\n",
    "        elif answer and action == 'D' and value == -1:\n",
    "\n",
    "            heappop(answer)\n",
    "\n",
    "        else:\n",
    "\n",
    "            heappush(answer,value)\n",
    "\n",
    "    if not answer:\n",
    "\n",
    "        answer = [0,0]\n",
    "\n",
    "\n",
    "    return max(answer), answer[0]\n",
    "\n",
    "solution([\"I -45\", \"I 653\", \"D 1\", \"I -642\", \"I 45\", \"I 97\", \"D 1\", \"D -1\", \"I 333\"])"
   ]
  }
 ],
 "metadata": {
  "kernelspec": {
   "display_name": "t_academy",
   "language": "python",
   "name": "python3"
  },
  "language_info": {
   "codemirror_mode": {
    "name": "ipython",
    "version": 3
   },
   "file_extension": ".py",
   "mimetype": "text/x-python",
   "name": "python",
   "nbconvert_exporter": "python",
   "pygments_lexer": "ipython3",
   "version": "3.10.8"
  },
  "orig_nbformat": 4,
  "vscode": {
   "interpreter": {
    "hash": "050822da0265a2ede893b2e5a218ecba40703c5d8fd639a2141dfb5681f45c17"
   }
  }
 },
 "nbformat": 4,
 "nbformat_minor": 2
}
