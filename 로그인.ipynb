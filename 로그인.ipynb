{
 "cells": [
  {
   "cell_type": "code",
   "execution_count": null,
   "metadata": {},
   "outputs": [],
   "source": [
    "def solution(id_pw, db):\n",
    "    answer = ''\n",
    "    \n",
    "    dic = {i_p[0]: i_p[1] for i_p in db}\n",
    "    \n",
    "    if id_pw[0] in dic:\n",
    "        if id_pw[1] == dic[id_pw[0]]:\n",
    "            answer += 'login'\n",
    "        elif id_pw[1] != dic[id_pw[0]]:\n",
    "            answer += 'wrong pw'\n",
    "    else:\n",
    "        answer += 'fail'\n",
    "            \n",
    "    return answer"
   ]
  }
 ],
 "metadata": {
  "language_info": {
   "name": "python"
  },
  "orig_nbformat": 4
 },
 "nbformat": 4,
 "nbformat_minor": 2
}
