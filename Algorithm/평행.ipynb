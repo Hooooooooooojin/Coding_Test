{
 "cells": [
  {
   "cell_type": "code",
   "execution_count": 1,
   "metadata": {},
   "outputs": [],
   "source": [
    "def slope(dot1,dot2):\n",
    "    x1 = dot1[0]\n",
    "    y1 = dot1[1]\n",
    "    x2 = dot2[0]\n",
    "    y2 = dot2[1]\n",
    "    \n",
    "    return (x1-x2)/(y1-y2)\n",
    "\n",
    "def solution(dots):\n",
    "    answer = 0\n",
    "    # 기울기가 같으면 평행\n",
    "    if slope(dots[0],dots[1]) == slope(dots[2],dots[3]):\n",
    "        answer = 1\n",
    "    elif slope(dots[0],dots[2]) == slope(dots[1],dots[3]):\n",
    "        answer = 1\n",
    "    elif slope(dots[0],dots[3]) == slope(dots[1],dots[2]):\n",
    "        answer = 1\n",
    "        \n",
    "    return answer"
   ]
  }
 ],
 "metadata": {
  "kernelspec": {
   "display_name": "t_academy",
   "language": "python",
   "name": "python3"
  },
  "language_info": {
   "codemirror_mode": {
    "name": "ipython",
    "version": 3
   },
   "file_extension": ".py",
   "mimetype": "text/x-python",
   "name": "python",
   "nbconvert_exporter": "python",
   "pygments_lexer": "ipython3",
   "version": "3.10.8"
  },
  "orig_nbformat": 4,
  "vscode": {
   "interpreter": {
    "hash": "050822da0265a2ede893b2e5a218ecba40703c5d8fd639a2141dfb5681f45c17"
   }
  }
 },
 "nbformat": 4,
 "nbformat_minor": 2
}
