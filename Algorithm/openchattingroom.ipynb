{
 "cells": [
  {
   "cell_type": "code",
   "execution_count": 45,
   "metadata": {},
   "outputs": [],
   "source": [
    "def solution(record):\n",
    "    answer = []\n",
    "    dic = {}\n",
    "    for i in record: # dictionary 생성\n",
    "        splited = i.split()\n",
    "        if len(splited) == 3: # Enter or Leave / ID / Nickname\n",
    "            dic[splited[1]] = splited[2] # ID: Nickname\n",
    "    \n",
    "    for i in record:\n",
    "        splited = i.split()\n",
    "        if splited[0] == 'Enter':\n",
    "            answer.append('{}님이 들어왔습니다.'.format(dic[splited[1]]))\n",
    "        elif splited[0] == 'Leave':\n",
    "            answer.append('{}님이 나갔습니다.'.format(dic[splited[1]]))\n",
    "        else:\n",
    "            pass\n",
    "    return answer"
   ]
  }
 ],
 "metadata": {
  "kernelspec": {
   "display_name": "t_academy",
   "language": "python",
   "name": "python3"
  },
  "language_info": {
   "codemirror_mode": {
    "name": "ipython",
    "version": 3
   },
   "file_extension": ".py",
   "mimetype": "text/x-python",
   "name": "python",
   "nbconvert_exporter": "python",
   "pygments_lexer": "ipython3",
   "version": "3.10.8 | packaged by conda-forge | (main, Nov 24 2022, 14:07:00) [MSC v.1916 64 bit (AMD64)]"
  },
  "orig_nbformat": 4,
  "vscode": {
   "interpreter": {
    "hash": "050822da0265a2ede893b2e5a218ecba40703c5d8fd639a2141dfb5681f45c17"
   }
  }
 },
 "nbformat": 4,
 "nbformat_minor": 2
}
