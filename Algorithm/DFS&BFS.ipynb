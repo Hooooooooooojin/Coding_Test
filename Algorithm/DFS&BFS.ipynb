{
 "cells": [
  {
   "attachments": {},
   "cell_type": "markdown",
   "metadata": {},
   "source": [
    "1. 타겟 넘버"
   ]
  },
  {
   "cell_type": "code",
   "execution_count": 3,
   "metadata": {},
   "outputs": [
    {
     "data": {
      "text/plain": [
       "5"
      ]
     },
     "execution_count": 3,
     "metadata": {},
     "output_type": "execute_result"
    }
   ],
   "source": [
    "from collections import deque\n",
    "\n",
    "def solution(numbers, target):\n",
    "    answer = 0\n",
    "    n = len(numbers)\n",
    "    q = deque()\n",
    "    q.append([numbers[0],0])\n",
    "    q.append([-1*numbers[0],0])\n",
    "\n",
    "    while q:\n",
    "        temp,idx = q.popleft()\n",
    "        idx += 1\n",
    "        if idx < n:\n",
    "            q.append([temp+numbers[idx],idx])\n",
    "            q.append([temp-numbers[idx],idx])\n",
    "        elif temp == target:\n",
    "            answer += 1\n",
    "\n",
    "    return answer\n",
    "\n",
    "solution([1, 1, 1, 1, 1],3)"
   ]
  },
  {
   "attachments": {},
   "cell_type": "markdown",
   "metadata": {},
   "source": [
    "2. 네트워크"
   ]
  },
  {
   "cell_type": "code",
   "execution_count": 5,
   "metadata": {},
   "outputs": [
    {
     "data": {
      "text/plain": [
       "2"
      ]
     },
     "execution_count": 5,
     "metadata": {},
     "output_type": "execute_result"
    }
   ],
   "source": [
    "def solution(n,computers):\n",
    "    answer = 0\n",
    "    def dfs(i):\n",
    "        visited[i] = 1\n",
    "        for k in range(n):\n",
    "            if computers[i][k] == 1 and visited[k] == 0:\n",
    "                dfs(k)\n",
    "\n",
    "    visited = [0 for _ in range(n)]\n",
    "    for i in range(n):\n",
    "        if visited[i] == 0:\n",
    "            dfs(i)\n",
    "            answer += 1\n",
    "\n",
    "    return answer\n",
    "\n",
    "solution(3,[[1, 1, 0], [1, 1, 0], [0, 0, 1]])"
   ]
  },
  {
   "attachments": {},
   "cell_type": "markdown",
   "metadata": {},
   "source": [
    "3. 게임 맵 최단거리"
   ]
  },
  {
   "cell_type": "code",
   "execution_count": 7,
   "metadata": {},
   "outputs": [
    {
     "data": {
      "text/plain": [
       "11"
      ]
     },
     "execution_count": 7,
     "metadata": {},
     "output_type": "execute_result"
    }
   ],
   "source": [
    "from collections import deque\n",
    "\n",
    "def solution(maps):\n",
    "    answer = 0\n",
    "    n = len(maps) # 행\n",
    "    m = len(maps[0]) # 열\n",
    "    q = deque([[0,0]])\n",
    "    graph = [[-1 for a in range(m)] for b in range(n)]\n",
    "    graph[0][0] = 1\n",
    "    dx = [-1,0,0,1]\n",
    "    dy = [0,-1,1,0]\n",
    "\n",
    "    while q:\n",
    "        x,y = q.popleft()\n",
    "        for i in range(4):\n",
    "            nx = x + dx[i]\n",
    "            ny = y + dy[i]\n",
    "            if 0 <= nx < n and 0 <= ny < m and maps[nx][ny] == 1:\n",
    "                if graph[nx][ny] == -1:\n",
    "                    q.append([nx,ny])\n",
    "                    graph[nx][ny] = graph[x][y] + 1\n",
    "    answer += graph[-1][-1]\n",
    "\n",
    "    return answer\n",
    "\n",
    "solution([[1,0,1,1,1],[1,0,1,0,1],[1,0,1,1,1],[1,1,1,0,1],[0,0,0,0,1]]\t)"
   ]
  },
  {
   "cell_type": "markdown",
   "metadata": {},
   "source": [
    "4. 단어 변환"
   ]
  },
  {
   "cell_type": "code",
   "execution_count": 9,
   "metadata": {},
   "outputs": [
    {
     "data": {
      "text/plain": [
       "4"
      ]
     },
     "execution_count": 9,
     "metadata": {},
     "output_type": "execute_result"
    }
   ],
   "source": [
    "from collections import deque\n",
    "\n",
    "def solution(begin,target,words):\n",
    "\n",
    "    answer = 0\n",
    "    q = deque([[begin,0]])\n",
    "    v = [0 for i in range(len(words))]\n",
    "\n",
    "    while q:\n",
    "\n",
    "        word,cnt = q.popleft()\n",
    "        if word == target:\n",
    "            answer = cnt\n",
    "            break\n",
    "            \n",
    "        for i in range(len(words)):\n",
    "            tmp_cnt = 0\n",
    "            if v[i] == 0:\n",
    "                for j in range(len(word)):\n",
    "                    if word[j] != words[i][j]:\n",
    "                        tmp_cnt += 1\n",
    "                    \n",
    "                if tmp_cnt == 1:\n",
    "                    q.append([words[i],cnt+1])\n",
    "                    v[i] = 1\n",
    "\n",
    "    return answer\n",
    "\n",
    "solution('hit','cog',[\"hot\", \"dot\", \"dog\", \"lot\", \"log\", \"cog\"])"
   ]
  },
  {
   "cell_type": "markdown",
   "metadata": {},
   "source": [
    "5. 아이템 줍기"
   ]
  },
  {
   "cell_type": "code",
   "execution_count": 13,
   "metadata": {},
   "outputs": [
    {
     "data": {
      "text/plain": [
       "17"
      ]
     },
     "execution_count": 13,
     "metadata": {},
     "output_type": "execute_result"
    }
   ],
   "source": [
    "from collections import deque\n",
    "def solution(rectangle, characterX, characterY, itemX, itemY):\n",
    "    answer = 0\n",
    "    field = [[-1] * 102 for i in range(102)]\n",
    "    \n",
    "    for r in rectangle:\n",
    "        x1,y1,x2,y2 = map(lambda x:x*2,r)\n",
    "        for i in range(x1,x2+1):\n",
    "            for j in range(y1,y2+1):\n",
    "                if x1<i<x2 and y1<j<y2:\n",
    "                    field[i][j] = 0\n",
    "                elif field[i][j] != 0:\n",
    "                    field[i][j] = 1\n",
    "    \n",
    "    dx = [-1,1,0,0]\n",
    "    dy = [0,0,-1,1]\n",
    "\n",
    "    q = deque([[characterX*2, characterY*2]])\n",
    "    visited = [[1]*102 for i in range(102)]\n",
    "\n",
    "    while q:\n",
    "        x,y = q.popleft()\n",
    "        if x==itemX*2 and y==itemY*2:\n",
    "            answer = visited[x][y] // 2\n",
    "            break\n",
    "        for i in range(4):\n",
    "            nx = x + dx[i]\n",
    "            ny = y + dy[i]\n",
    "            if field[nx][ny] == 1 and visited[nx][ny] == 1:\n",
    "                q.append([nx,ny])\n",
    "                visited[nx][ny] = visited[x][y] + 1\n",
    "\n",
    "    return answer\n",
    "\n",
    "solution([[1,1,7,4],[3,2,5,5],[4,3,6,9],[2,6,8,8]],1,3,7,8)"
   ]
  },
  {
   "attachments": {},
   "cell_type": "markdown",
   "metadata": {},
   "source": [
    "6. 여행경로"
   ]
  },
  {
   "cell_type": "code",
   "execution_count": 18,
   "metadata": {},
   "outputs": [
    {
     "data": {
      "text/plain": [
       "['ICN', 'JFK', 'HND', 'IAD']"
      ]
     },
     "execution_count": 18,
     "metadata": {},
     "output_type": "execute_result"
    }
   ],
   "source": [
    "from collections import defaultdict\n",
    "\n",
    "def solution(tickets):\n",
    "\n",
    "    answer = []\n",
    "\n",
    "    graph = defaultdict(list)\n",
    "    for start, end in tickets:\n",
    "        graph[start].append(end)\n",
    "\n",
    "    for start in graph.keys():\n",
    "        graph[start].sort(reverse=True)\n",
    "\n",
    "    stack = ['ICN']\n",
    "\n",
    "    while stack:\n",
    "\n",
    "        node = stack.pop()\n",
    "\n",
    "        if node not in graph or not graph[node]:\n",
    "\n",
    "            answer.append(node)\n",
    "\n",
    "        else:\n",
    "\n",
    "            stack.append(node)\n",
    "            stack.append(graph[node].pop())\n",
    "\n",
    "    return answer[::-1]\n",
    "\n",
    "solution([[\"ICN\", \"JFK\"], [\"HND\", \"IAD\"], [\"JFK\", \"HND\"]])"
   ]
  },
  {
   "cell_type": "code",
   "execution_count": null,
   "metadata": {},
   "outputs": [],
   "source": []
  }
 ],
 "metadata": {
  "kernelspec": {
   "display_name": "t_academy",
   "language": "python",
   "name": "python3"
  },
  "language_info": {
   "codemirror_mode": {
    "name": "ipython",
    "version": 3
   },
   "file_extension": ".py",
   "mimetype": "text/x-python",
   "name": "python",
   "nbconvert_exporter": "python",
   "pygments_lexer": "ipython3",
   "version": "3.10.8"
  },
  "orig_nbformat": 4,
  "vscode": {
   "interpreter": {
    "hash": "050822da0265a2ede893b2e5a218ecba40703c5d8fd639a2141dfb5681f45c17"
   }
  }
 },
 "nbformat": 4,
 "nbformat_minor": 2
}
