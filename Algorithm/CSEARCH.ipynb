{
 "cells": [
  {
   "attachments": {},
   "cell_type": "markdown",
   "metadata": {},
   "source": [
    "1. 최소직사각형"
   ]
  },
  {
   "cell_type": "code",
   "execution_count": 3,
   "metadata": {},
   "outputs": [
    {
     "data": {
      "text/plain": [
       "4000"
      ]
     },
     "execution_count": 3,
     "metadata": {},
     "output_type": "execute_result"
    }
   ],
   "source": [
    "def solution(sizes):\n",
    "\n",
    "    answer = 0\n",
    "\n",
    "    w = max([max(size) for size in sizes])\n",
    "    h = max([min(size) for size in sizes])\n",
    "\n",
    "    answer += w*h\n",
    "\n",
    "    return answer\n",
    "\n",
    "solution([[60, 50], [30, 70], [60, 30], [80, 40]])"
   ]
  },
  {
   "attachments": {},
   "cell_type": "markdown",
   "metadata": {},
   "source": [
    "2. 모의고사"
   ]
  },
  {
   "cell_type": "code",
   "execution_count": 5,
   "metadata": {},
   "outputs": [
    {
     "data": {
      "text/plain": [
       "[1]"
      ]
     },
     "execution_count": 5,
     "metadata": {},
     "output_type": "execute_result"
    }
   ],
   "source": [
    "def solution(answers):\n",
    "    \n",
    "    answer = []\n",
    "    p1 = [1,2,3,4,5]\n",
    "    p2 = [2,1,2,3,2,4,2,5]\n",
    "    p3 = [3,3,1,1,2,2,4,4,5,5]\n",
    "    cnt_list = [0,0,0]\n",
    "\n",
    "    for i in range(len(answers)):\n",
    "\n",
    "        if answers[i] == p1[i%len(p1)]:\n",
    "            cnt_list[0] += 1\n",
    "\n",
    "        if answers[i] == p2[i%len(p2)]:\n",
    "            cnt_list[1] += 1\n",
    "\n",
    "        if answers[i] == p3[i%len(p3)]:\n",
    "            cnt_list[2] += 1\n",
    "\n",
    "    for idx, point in enumerate(cnt_list):\n",
    "        if point == max(cnt_list):\n",
    "            answer.append(idx+1)\n",
    "            \n",
    "    return answer\n",
    "\n",
    "solution([1,2,3,4,5])"
   ]
  },
  {
   "attachments": {},
   "cell_type": "markdown",
   "metadata": {},
   "source": [
    "3. 소수찾기"
   ]
  },
  {
   "cell_type": "code",
   "execution_count": 6,
   "metadata": {},
   "outputs": [
    {
     "data": {
      "text/plain": [
       "3"
      ]
     },
     "execution_count": 6,
     "metadata": {},
     "output_type": "execute_result"
    }
   ],
   "source": [
    "def isprime(num):\n",
    "\n",
    "    if num == 1 or num == 0:\n",
    "\n",
    "        return False\n",
    "    \n",
    "    if num == 2 or num == 3:\n",
    "\n",
    "        return True\n",
    "    \n",
    "    for i in range(2,int(num**0.5)+1):\n",
    "\n",
    "        if num % i == 0:\n",
    "\n",
    "            return False\n",
    "        \n",
    "    return True\n",
    "\n",
    "from itertools import permutations\n",
    "\n",
    "def solution(numbers):\n",
    "\n",
    "    answer = 0\n",
    "    nums = set()\n",
    "\n",
    "    for i in range(1,len(numbers)+1):\n",
    "\n",
    "        nums |= set(map(''.join, permutations(numbers,i)))\n",
    "\n",
    "    nums = set(map(int, nums))\n",
    "    \n",
    "    for num in nums:\n",
    "\n",
    "        if isprime(num):\n",
    "            \n",
    "            answer += 1\n",
    "\n",
    "    return answer\n",
    "\n",
    "solution('17')"
   ]
  },
  {
   "attachments": {},
   "cell_type": "markdown",
   "metadata": {},
   "source": [
    "4. 카펫"
   ]
  },
  {
   "cell_type": "code",
   "execution_count": 8,
   "metadata": {},
   "outputs": [
    {
     "data": {
      "text/plain": [
       "[4, 3]"
      ]
     },
     "execution_count": 8,
     "metadata": {},
     "output_type": "execute_result"
    }
   ],
   "source": [
    "def solution(brown,yellow):\n",
    "    answer = []\n",
    "    total = brown + yellow\n",
    "\n",
    "    for i in range(1,int(total**0.5+1)):\n",
    "        a = i\n",
    "        b = total//i\n",
    "        if 2*a + 2*b - 4 == brown:\n",
    "            answer.append(b)\n",
    "            answer.append(a)\n",
    "\n",
    "    return answer\n",
    "\n",
    "solution(10,2)"
   ]
  },
  {
   "attachments": {},
   "cell_type": "markdown",
   "metadata": {},
   "source": [
    "5. 피로도"
   ]
  },
  {
   "cell_type": "code",
   "execution_count": 11,
   "metadata": {},
   "outputs": [
    {
     "data": {
      "text/plain": [
       "3"
      ]
     },
     "execution_count": 11,
     "metadata": {},
     "output_type": "execute_result"
    }
   ],
   "source": [
    "from itertools import permutations\n",
    "\n",
    "def solution(k,dungeons):\n",
    "    \n",
    "    answer = []\n",
    "\n",
    "    for order in permutations(dungeons,len(dungeons)):\n",
    "\n",
    "        now = k\n",
    "\n",
    "        cnt = 0\n",
    "\n",
    "        for i in order:\n",
    "            if now >= i[0]:\n",
    "                now -= i[1]\n",
    "                cnt += 1\n",
    "        \n",
    "        answer.append(cnt)\n",
    "\n",
    "    return max(answer) \n",
    "\n",
    "solution(80,[[80,20],[50,40],[30,10]])"
   ]
  },
  {
   "attachments": {},
   "cell_type": "markdown",
   "metadata": {},
   "source": [
    "6. 전력망을 둘로 나누기"
   ]
  },
  {
   "cell_type": "code",
   "execution_count": 15,
   "metadata": {},
   "outputs": [
    {
     "data": {
      "text/plain": [
       "3"
      ]
     },
     "execution_count": 15,
     "metadata": {},
     "output_type": "execute_result"
    }
   ],
   "source": [
    "from collections import deque\n",
    "\n",
    "def bfs(graph,start,visited):\n",
    "\n",
    "    q = deque([start])\n",
    "    visited[start] = True\n",
    "    cnt = 0\n",
    "\n",
    "    while q:\n",
    "\n",
    "        node = q.popleft()\n",
    "        cnt += 1\n",
    "\n",
    "        for i in graph[node]:\n",
    "\n",
    "            if not visited[i]:\n",
    "                \n",
    "                q.append(i)\n",
    "\n",
    "                visited[i] = True\n",
    "\n",
    "    return cnt\n",
    "\n",
    "\n",
    "\n",
    "\n",
    "\n",
    "def solution(n, wires):\n",
    "    answer = n - 2 # 만약 1개랑 나머지로 나뉠 경우 차이는 무조건 n-2개\n",
    "    \n",
    "    for i in range(len(wires)):\n",
    "\n",
    "        tmps = wires.copy()\n",
    "        graph = [[] for _ in range(n+1)]\n",
    "        visited = [False for _ in range(n+1)]\n",
    "        tmps.pop(i)\n",
    "\n",
    "        for s,e in tmps:\n",
    "            graph[s].append(e)\n",
    "            graph[e].append(s)\n",
    "\n",
    "        for s,e in enumerate(graph):\n",
    "            if e != []:\n",
    "                start = s\n",
    "                break\n",
    "\n",
    "        cnts = bfs(graph,start,visited)\n",
    "        other_cnts = n - cnts\n",
    "\n",
    "        if abs(cnts-other_cnts) < answer: # 원래 것보다 차이가 작으면 이거롤 해야지\n",
    "            answer = abs(cnts-other_cnts)\n",
    "\n",
    "    return answer\n",
    "\n",
    "solution(9,[[1,3],[2,3],[3,4],[4,5],[4,6],[4,7],[7,8],[7,9]])"
   ]
  },
  {
   "attachments": {},
   "cell_type": "markdown",
   "metadata": {},
   "source": [
    "7. 모음사전"
   ]
  },
  {
   "cell_type": "code",
   "execution_count": 23,
   "metadata": {},
   "outputs": [
    {
     "data": {
      "text/plain": [
       "6"
      ]
     },
     "execution_count": 23,
     "metadata": {},
     "output_type": "execute_result"
    }
   ],
   "source": [
    "from itertools import product\n",
    "\n",
    "def solution(word):\n",
    "    answer = 0\n",
    "    aeiou = 'AEIOU'\n",
    "    word_list = []\n",
    "    for i in range(1,len(aeiou)+1):\n",
    "        for pd in product(aeiou, repeat=i):\n",
    "            word_list.append(''.join(pd))\n",
    "    word_list.sort()\n",
    "    return word_list.index(word) + 1\n",
    "\n",
    "solution('AAAAE')"
   ]
  }
 ],
 "metadata": {
  "kernelspec": {
   "display_name": "t_academy",
   "language": "python",
   "name": "python3"
  },
  "language_info": {
   "codemirror_mode": {
    "name": "ipython",
    "version": 3
   },
   "file_extension": ".py",
   "mimetype": "text/x-python",
   "name": "python",
   "nbconvert_exporter": "python",
   "pygments_lexer": "ipython3",
   "version": "3.10.8"
  },
  "orig_nbformat": 4,
  "vscode": {
   "interpreter": {
    "hash": "050822da0265a2ede893b2e5a218ecba40703c5d8fd639a2141dfb5681f45c17"
   }
  }
 },
 "nbformat": 4,
 "nbformat_minor": 2
}
