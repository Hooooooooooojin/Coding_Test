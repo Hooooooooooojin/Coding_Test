{
 "cells": [
  {
   "attachments": {},
   "cell_type": "markdown",
   "metadata": {},
   "source": [
    "1. 체육복"
   ]
  },
  {
   "cell_type": "code",
   "execution_count": 3,
   "metadata": {},
   "outputs": [
    {
     "data": {
      "text/plain": [
       "5"
      ]
     },
     "execution_count": 3,
     "metadata": {},
     "output_type": "execute_result"
    }
   ],
   "source": [
    "def solution(n,lost,reserve):\n",
    "    answer = 0\n",
    "    lost_set = set(lost) - set(reserve)\n",
    "    reserve_set = set(reserve) - set(lost)\n",
    "\n",
    "    for rsv in reserve_set:\n",
    "        if rsv-1 in lost_set:\n",
    "            lost_set.remove(rsv-1)\n",
    "        elif rsv+1 in lost_set:\n",
    "            lost_set.remove(rsv+1)\n",
    "    \n",
    "    answer = 5 - len(lost_set)\n",
    "\n",
    "    return answer\n",
    "\n",
    "solution(5,[2,4],[1,3,5])"
   ]
  },
  {
   "attachments": {},
   "cell_type": "markdown",
   "metadata": {},
   "source": [
    "2. 조이스틱"
   ]
  },
  {
   "cell_type": "code",
   "execution_count": 9,
   "metadata": {},
   "outputs": [
    {
     "data": {
      "text/plain": [
       "56"
      ]
     },
     "execution_count": 9,
     "metadata": {},
     "output_type": "execute_result"
    }
   ],
   "source": [
    "def solution(name):\n",
    "    answer = 0\n",
    "    moves = [min(ord(s)-ord('A'),ord('Z')-ord(s)+1) for s in name]\n",
    "\n",
    "    pos = 0\n",
    "    \n",
    "    while True:\n",
    "        \n",
    "        answer += moves[pos]\n",
    "        moves[pos] = 0\n",
    "\n",
    "\n",
    "        if sum(moves) == 0:\n",
    "\n",
    "            break\n",
    "\n",
    "        left = 1\n",
    "        right = 1\n",
    "\n",
    "        while moves[pos-left] == 0:\n",
    "            \n",
    "            left += 1\n",
    "\n",
    "        while moves[pos+right] == 0:\n",
    "\n",
    "            right += 1\n",
    "\n",
    "        if left >= right:\n",
    "\n",
    "            pos += right\n",
    "            answer += right\n",
    "\n",
    "        else:\n",
    "\n",
    "            pos -= left\n",
    "            answer -= left\n",
    "\n",
    "    return answer\n",
    "\n",
    "solution('JEROEN')"
   ]
  },
  {
   "attachments": {},
   "cell_type": "markdown",
   "metadata": {},
   "source": [
    "3. 큰 수 만들기"
   ]
  },
  {
   "cell_type": "code",
   "execution_count": 17,
   "metadata": {},
   "outputs": [
    {
     "data": {
      "text/plain": [
       "'94'"
      ]
     },
     "execution_count": 17,
     "metadata": {},
     "output_type": "execute_result"
    }
   ],
   "source": [
    "def solution(number, k):\n",
    "\n",
    "    answer = []\n",
    "\n",
    "    for num in number: # 1 9 2 4\n",
    "\n",
    "        while k != 0 and answer and answer[-1] < num:\n",
    "\n",
    "            answer.pop()\n",
    "\n",
    "            k -= 1\n",
    "\n",
    "        answer.append(num)\n",
    "\n",
    "\n",
    "    return ''.join(answer[:len(answer)-k])\n",
    "\n",
    "solution('1924',2)"
   ]
  },
  {
   "attachments": {},
   "cell_type": "markdown",
   "metadata": {},
   "source": [
    "4. 구명보트"
   ]
  },
  {
   "cell_type": "code",
   "execution_count": 18,
   "metadata": {},
   "outputs": [
    {
     "data": {
      "text/plain": [
       "3"
      ]
     },
     "execution_count": 18,
     "metadata": {},
     "output_type": "execute_result"
    }
   ],
   "source": [
    "def solution(people, limit):\n",
    "\n",
    "    answer = 0\n",
    "\n",
    "    people.sort()\n",
    "\n",
    "    a = 0\n",
    "    b = len(people) - 1\n",
    "\n",
    "    while a<b:\n",
    "\n",
    "        if people[a] + people[b] <= limit:\n",
    "\n",
    "            answer += 1\n",
    "\n",
    "            a += 1\n",
    "        \n",
    "        b -= 1 \n",
    "\n",
    "    return len(people) - answer\n",
    "\n",
    "solution([70, 50, 80, 50],100)"
   ]
  },
  {
   "attachments": {},
   "cell_type": "markdown",
   "metadata": {},
   "source": [
    "5. 섬 연결하기"
   ]
  },
  {
   "cell_type": "code",
   "execution_count": 23,
   "metadata": {},
   "outputs": [
    {
     "data": {
      "text/plain": [
       "4"
      ]
     },
     "execution_count": 23,
     "metadata": {},
     "output_type": "execute_result"
    }
   ],
   "source": [
    "def solution(n,costs):\n",
    "    answer = 0\n",
    "\n",
    "    costs = sorted(costs, key=lambda x:x[2])\n",
    "\n",
    "    bridge = set([0])\n",
    "    while len(bridge) < n:\n",
    "\n",
    "        for b1, b2, cost in costs:\n",
    "\n",
    "            if b1 in bridge and b2 in bridge:\n",
    "\n",
    "                continue\n",
    "\n",
    "            elif b1 in bridge or b2 in bridge:\n",
    "\n",
    "                bridge.update([b1,b2])\n",
    "\n",
    "                answer += cost\n",
    "\n",
    "                break\n",
    "\n",
    "    return answer\n",
    "\n",
    "solution(4,[[0,1,1],[0,2,2],[1,2,5],[1,3,1],[2,3,8]])"
   ]
  },
  {
   "attachments": {},
   "cell_type": "markdown",
   "metadata": {},
   "source": [
    "6. 단속 카메라"
   ]
  },
  {
   "cell_type": "code",
   "execution_count": 29,
   "metadata": {},
   "outputs": [
    {
     "name": "stdout",
     "output_type": "stream",
     "text": [
      "[[-20, -15], [-18, -13], [-14, -5], [-5, -3]]\n"
     ]
    },
    {
     "data": {
      "text/plain": [
       "2"
      ]
     },
     "execution_count": 29,
     "metadata": {},
     "output_type": "execute_result"
    }
   ],
   "source": [
    "def solution(routes):\n",
    "    answer = 0\n",
    "    routes.sort(key=lambda x:x[1])\n",
    "    camera = [routes[0][1]]\n",
    "\n",
    "    for s,e in routes:\n",
    "        if s <= camera[-1]:\n",
    "            continue\n",
    "        else:\n",
    "            camera.append(e)\n",
    "        \n",
    "    answer += len(camera)\n",
    "\n",
    "    return answer\n",
    "\n",
    "solution([[-20,-15], [-14,-5], [-18,-13], [-5,-3]])"
   ]
  }
 ],
 "metadata": {
  "kernelspec": {
   "display_name": "Python 3",
   "language": "python",
   "name": "python3"
  },
  "language_info": {
   "codemirror_mode": {
    "name": "ipython",
    "version": 3
   },
   "file_extension": ".py",
   "mimetype": "text/x-python",
   "name": "python",
   "nbconvert_exporter": "python",
   "pygments_lexer": "ipython3",
   "version": "3.7.0"
  },
  "orig_nbformat": 4,
  "vscode": {
   "interpreter": {
    "hash": "feccac40ca2e75ed2856e3b077d160e7b46d9524c4d2ea7f590541b8f507b3e1"
   }
  }
 },
 "nbformat": 4,
 "nbformat_minor": 2
}
