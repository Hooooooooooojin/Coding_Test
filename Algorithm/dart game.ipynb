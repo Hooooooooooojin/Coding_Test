{
 "cells": [
  {
   "cell_type": "code",
   "execution_count": 44,
   "metadata": {},
   "outputs": [],
   "source": [
    "def solution(dartResult):\n",
    "    answer = 0\n",
    "    dartResult = dartResult.replace('10','@') # 숫자 10을 1,0으로 따로 인식하기 때문에 예외 처리 \n",
    "    dic = {'S':1,'D':2,'T':3,'*':2,'#':-1}\n",
    "    sum_list = []\n",
    "    for i in range(len(dartResult)):\n",
    "        if dartResult[i].isnumeric(): # 숫자인 경우\n",
    "            sum_list.append(int(dartResult[i]))\n",
    "            print(sum_list)\n",
    "        elif dartResult[i] == '@': # 10을 1,0으로 따로 인식할 경우 10으로 처리 \n",
    "            sum_list.append(10)\n",
    "        elif dartResult[i] in ['S','D','T']: # Bonus의 경우 dictionary를 통해 연산\n",
    "            sum_list[-1] = sum_list[-1]**dic[dartResult[i]]\n",
    "        elif dartResult[i] == '*': # Option *\n",
    "            if len(sum_list) >= 2:\n",
    "                sum_list[-1] = sum_list[-1]*dic[dartResult[i]]\n",
    "                sum_list[-2] = sum_list[-2]*dic[dartResult[i]]\n",
    "            else:\n",
    "                sum_list[-1] = sum_list[-1]*dic[dartResult[i]]\n",
    "        else: # Option #\n",
    "            sum_list[-1] = sum_list[-1]*dic[dartResult[i]]\n",
    "\n",
    "    answer += sum(sum_list)    \n",
    "    return answer"
   ]
  },
  {
   "cell_type": "code",
   "execution_count": 2,
   "metadata": {},
   "outputs": [],
   "source": [
    "def solution(dartResult):\n",
    "    answer = 0\n",
    "    import re\n",
    "    dic = {'S':1,'D':2,'T':3,'*':2,'#':-1,'':1}\n",
    "    dart = re.compile('(\\d+)([SDT])([*#]?)').findall(dartResult) # dartresult를 ('숫자','Bonus','Option') 으로 Compile\n",
    "    for i in range(len(dart)):\n",
    "        if dart[i][2] == '*' and i>0:\n",
    "            dart[i-1] *= 2\n",
    "        dart[i] = int(dart[i][0])**dic[dart[i][1]]*dic[dart[i][2]]\n",
    "    answer += sum(dart)\n",
    "    return answer"
   ]
  }
 ],
 "metadata": {
  "kernelspec": {
   "display_name": "t_academy",
   "language": "python",
   "name": "python3"
  },
  "language_info": {
   "codemirror_mode": {
    "name": "ipython",
    "version": 3
   },
   "file_extension": ".py",
   "mimetype": "text/x-python",
   "name": "python",
   "nbconvert_exporter": "python",
   "pygments_lexer": "ipython3",
   "version": "3.10.8"
  },
  "orig_nbformat": 4,
  "vscode": {
   "interpreter": {
    "hash": "050822da0265a2ede893b2e5a218ecba40703c5d8fd639a2141dfb5681f45c17"
   }
  }
 },
 "nbformat": 4,
 "nbformat_minor": 2
}
