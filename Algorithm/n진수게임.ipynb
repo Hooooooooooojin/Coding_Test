{
 "cells": [
  {
   "cell_type": "code",
   "execution_count": 6,
   "metadata": {},
   "outputs": [],
   "source": [
    "def n_change(k,n):\n",
    "    dic = '0123456789ABCDEF'\n",
    "    k, mod = divmod(k,n)\n",
    "    if k==0: # 몫이 0이면 종료 \n",
    "        return dic[mod] # 나머지에 해당하는 값 반환\n",
    "    else: # 몫이 0이 아니면 재귀적으로 계속 진행\n",
    "        return n_change(k,n) + dic[mod] # string형식으로 앞에다가 붙여줌\n",
    "\n",
    "def solution(n,t,m,p):\n",
    "    answer = ''\n",
    "    temp = '' # temp에는 n진수로 변환한 숫자에 대해 다 들어가있음\n",
    "    \n",
    "    for i in range(m*t): # 인당 t개씩 이니까 m*t개를 미리 다 만들어놓음\n",
    "        temp += str(n_change(number,n)) \n",
    "    \n",
    "    while len(answer) < t: # \n",
    "        answer += temp[p-1] # p번째 순서면, 해당 인덱스를 가져와서 answer에 추가\n",
    "        p += m # m명이서 하는 거니까, p번째 순서였다면 다음 순서는 p+m번째\n",
    "        \n",
    "    return answer"
   ]
  }
 ],
 "metadata": {
  "kernelspec": {
   "display_name": "t_academy",
   "language": "python",
   "name": "python3"
  },
  "language_info": {
   "codemirror_mode": {
    "name": "ipython",
    "version": 3
   },
   "file_extension": ".py",
   "mimetype": "text/x-python",
   "name": "python",
   "nbconvert_exporter": "python",
   "pygments_lexer": "ipython3",
   "version": "3.10.8"
  },
  "orig_nbformat": 4,
  "vscode": {
   "interpreter": {
    "hash": "050822da0265a2ede893b2e5a218ecba40703c5d8fd639a2141dfb5681f45c17"
   }
  }
 },
 "nbformat": 4,
 "nbformat_minor": 2
}
