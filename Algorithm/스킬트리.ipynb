{
 "cells": [
  {
   "cell_type": "code",
   "execution_count": 2,
   "metadata": {},
   "outputs": [],
   "source": [
    "def solution(skill, skill_trees):\n",
    "    \n",
    "    answer = 0\n",
    "    \n",
    "    for skill_tree in skill_trees:\n",
    "        \n",
    "        temp = ''\n",
    "        \n",
    "        for char in skill_tree: \n",
    "            \n",
    "            if char in skill: # 스킬이 스킬트리에 있으면 추가\n",
    "                \n",
    "                temp += char\n",
    "                \n",
    "        if temp == skill[:len(temp)]: # 스킬들이 스킬트리 순서대로 되어있으면 count\n",
    "            \n",
    "            answer += 1\n",
    "            \n",
    "    return answer"
   ]
  }
 ],
 "metadata": {
  "kernelspec": {
   "display_name": "t_academy",
   "language": "python",
   "name": "python3"
  },
  "language_info": {
   "codemirror_mode": {
    "name": "ipython",
    "version": 3
   },
   "file_extension": ".py",
   "mimetype": "text/x-python",
   "name": "python",
   "nbconvert_exporter": "python",
   "pygments_lexer": "ipython3",
   "version": "3.10.8"
  },
  "orig_nbformat": 4
 },
 "nbformat": 4,
 "nbformat_minor": 2
}
